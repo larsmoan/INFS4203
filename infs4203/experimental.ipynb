{
 "cells": [
  {
   "cell_type": "code",
   "execution_count": null,
   "metadata": {},
   "outputs": [],
   "source": [
    "from dataset import INFS4203Dataset\n",
    "import seaborn as sns\n",
    "import matplotlib.pyplot as plt\n",
    "dataset = INFS4203Dataset('train.csv', preprocessing=True)"
   ]
  },
  {
   "cell_type": "code",
   "execution_count": 7,
   "metadata": {},
   "outputs": [
    {
     "data": {
      "text/plain": [
       "Num_Col_0        1\n",
       "Num_Col_1        1\n",
       "Num_Col_2        1\n",
       "Num_Col_3        1\n",
       "Num_Col_4        1\n",
       "              ... \n",
       "Cat_Col_123    119\n",
       "Cat_Col_124    189\n",
       "Cat_Col_125    117\n",
       "Cat_Col_126    171\n",
       "Cat_Col_127    130\n",
       "Length: 128, dtype: int64"
      ]
     },
     "execution_count": 7,
     "metadata": {},
     "output_type": "execute_result"
    }
   ],
   "source": [
    "\n",
    "import pandas as pd\n",
    "from utils import get_data_dir\n",
    "\n",
    "test = pd.read_csv(get_data_dir() /  'test.csv')\n",
    "\n",
    "\n",
    "#Check NaN counts\n",
    "test.isna().sum()\n",
    "\n"
   ]
  },
  {
   "cell_type": "code",
   "execution_count": null,
   "metadata": {},
   "outputs": [],
   "source": [
    "#Only plot the entries where the label is not 1\n",
    "plt.figure()\n",
    "sns.scatterplot(x='Num_Col_13', y='Num_Col_72', hue='Label', data=dataset.cleaned_df[dataset.cleaned_df['Label']!=1], legend='full', hue_norm=(0,10), palette='Set1')\n",
    "plt.figure()\n",
    "sns.scatterplot(x='Num_Col_13', y='Num_Col_72', hue='Label', data=dataset.min_max_normalized_df[dataset.min_max_normalized_df['Label']!=1], legend='full', hue_norm=(0,10), palette='Set1')\n"
   ]
  },
  {
   "cell_type": "code",
   "execution_count": null,
   "metadata": {},
   "outputs": [],
   "source": [
    "dset = INFS4203Dataset('train.csv', preprocessing=True)\n",
    "X = dset.df[dset.feature_columns]\n",
    "y = dset.df['Label']\n",
    "\n",
    "unique_labels = y.unique()\n",
    "\n",
    "correlation_matrices = {}\n",
    "\n",
    "for label in unique_labels:\n",
    "    # Subset data for the current class\n",
    "    subset = X[y == label]\n",
    "    \n",
    "    # Compute correlation matrix for the subset\n",
    "    correlation = subset.corr()\n",
    "    \n",
    "    # Store in the dictionary\n",
    "    correlation_matrices[label] = correlation\n",
    "\n",
    "# Access correlation matrix for a specific class label\n",
    "# print(correlation_matrices[some_class_label])\n",
    "\n",
    "\n",
    "import seaborn as sns\n",
    "import matplotlib.pyplot as plt\n",
    "\n",
    "\n",
    "for i in range(0,9):\n",
    "    label_to_visualize = unique_labels[i]  # change to the label you want to visualize\n",
    "    plt.figure(figsize=(10, 8))\n",
    "    sns.heatmap(correlation_matrices[label_to_visualize], annot=False, cmap='coolwarm')\n",
    "    plt.title(f\"Correlation Matrix for Class {label_to_visualize}\")\n",
    "    plt.show()"
   ]
  },
  {
   "cell_type": "code",
   "execution_count": null,
   "metadata": {},
   "outputs": [],
   "source": [
    "from dataset import INFS4203Dataset\n",
    "from sklearn.model_selection import StratifiedKFold\n",
    "from sklearn.model_selection import cross_val_score, GridSearchCV, KFold\n",
    "from sklearn.neighbors import KNeighborsClassifier\n",
    "from sklearn.metrics import accuracy_score, f1_score\n",
    "import pandas as pd\n",
    "from utils import print_terminal_histogram\n",
    "from itertools import combinations\n",
    "\n",
    "\n",
    "# The dataset preprocessed\n",
    "dset = INFS4203Dataset('train.csv', preprocessing=True)\n",
    "data = dset.min_max_normalized_df\n",
    "\n",
    "X = data[data.columns[:-1]]\n",
    "y = data['Label']\n",
    "\n",
    "knn = KNeighborsClassifier()\n",
    "\n",
    "results = []\n",
    "\n",
    "feature_combinations = combinations(range(X.shape[1]), 2)\n",
    "\n",
    "for combo in feature_combinations:\n",
    "    X_subset = X.iloc[:, list(combo)]\n",
    "\n",
    "    scores = cross_val_score(knn, X_subset, y, cv=10, scoring='accuracy')\n",
    "    mean_score = scores.mean()\n",
    "    results.append((combo, mean_score))\n",
    "\n",
    "sorted_results = sorted(results, key=lambda x: x[1], reverse=True)\n",
    "\n",
    "best_combo, best_score = sorted_results[0]\n",
    "print(f\"Best feature pair: {best_combo}, with CV Accuracy: {best_score:.4f}\")"
   ]
  }
 ],
 "metadata": {
  "kernelspec": {
   "display_name": ".venv",
   "language": "python",
   "name": "python3"
  },
  "language_info": {
   "codemirror_mode": {
    "name": "ipython",
    "version": 3
   },
   "file_extension": ".py",
   "mimetype": "text/x-python",
   "name": "python",
   "nbconvert_exporter": "python",
   "pygments_lexer": "ipython3",
   "version": "3.11.4"
  },
  "orig_nbformat": 4
 },
 "nbformat": 4,
 "nbformat_minor": 2
}
