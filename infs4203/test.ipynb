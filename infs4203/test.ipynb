{
 "cells": [
  {
   "cell_type": "code",
   "execution_count": 2,
   "metadata": {},
   "outputs": [
    {
     "data": {
      "text/plain": [
       "Index(['Num_Col_0', 'Num_Col_1', 'Num_Col_2', 'Num_Col_3', 'Num_Col_4',\n",
       "       'Num_Col_5', 'Num_Col_6', 'Num_Col_7', 'Num_Col_8', 'Num_Col_9',\n",
       "       ...\n",
       "       'Cat_Col_119', 'Cat_Col_120', 'Cat_Col_121', 'Cat_Col_122',\n",
       "       'Cat_Col_123', 'Cat_Col_124', 'Cat_Col_125', 'Cat_Col_126',\n",
       "       'Cat_Col_127', 'Label'],\n",
       "      dtype='object', length=129)"
      ]
     },
     "execution_count": 2,
     "metadata": {},
     "output_type": "execute_result"
    }
   ],
   "source": [
    "#Merge two csv files into one\n",
    "import pandas as pd\n",
    "from utils import get_data_dir\n",
    "\n",
    "df1 = pd.read_csv(get_data_dir() / 'train.csv')\n",
    "df2 = pd.read_csv(get_data_dir() / 'train2.csv')\n",
    "\n",
    "df = pd.concat([df1, df2], ignore_index=True)\n",
    "\n",
    "# Reset the index to ensure unique row IDs\n",
    "df = df.reset_index(drop=True)\n",
    "df.columns"
   ]
  },
  {
   "cell_type": "code",
   "execution_count": 3,
   "metadata": {},
   "outputs": [],
   "source": [
    "import pandas as pd\n",
    "from sklearn.model_selection import train_test_split\n",
    "\n",
    "# Assuming df is your DataFrame with a column 'labels'\n",
    "\n",
    "# Define the features and labels\n",
    "X = df.drop(columns=['Label'])  # Features\n",
    "y = df['Label']  # Labels\n",
    "\n",
    "# Use stratified split to create training and testing sets\n",
    "X_train, X_val, y_train, y_val = train_test_split(X, y, test_size=0.15, stratify=y, random_state=42)\n",
    "\n",
    "# Create new DataFrames\n",
    "train_df = pd.concat([X_train, y_train], axis=1)\n",
    "val_df = pd.concat([X_val, y_val], axis=1)"
   ]
  },
  {
   "cell_type": "code",
   "execution_count": 4,
   "metadata": {},
   "outputs": [],
   "source": [
    "train_df.to_csv(get_data_dir() / \"train_strat.csv\", index=False)\n",
    "val_df.to_csv(get_data_dir() / \"val_strat.csv\", index=False)"
   ]
  }
 ],
 "metadata": {
  "kernelspec": {
   "display_name": ".venv",
   "language": "python",
   "name": "python3"
  },
  "language_info": {
   "codemirror_mode": {
    "name": "ipython",
    "version": 3
   },
   "file_extension": ".py",
   "mimetype": "text/x-python",
   "name": "python",
   "nbconvert_exporter": "python",
   "pygments_lexer": "ipython3",
   "version": "3.11.4"
  }
 },
 "nbformat": 4,
 "nbformat_minor": 2
}
